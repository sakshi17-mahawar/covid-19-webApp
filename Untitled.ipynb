{
 "cells": [
  {
   "cell_type": "code",
   "execution_count": 29,
   "metadata": {},
   "outputs": [],
   "source": [
    "import pandas as pd\n"
   ]
  },
  {
   "cell_type": "code",
   "execution_count": 30,
   "metadata": {},
   "outputs": [],
   "source": [
    "data = pd.read_csv(\"covid_19_clean_complete.csv\")"
   ]
  },
  {
   "cell_type": "code",
   "execution_count": 84,
   "metadata": {},
   "outputs": [],
   "source": [
    "list1 = list(data[\"Date\"])\n",
    "list2 = list(data[\"Country/Region\"])\n",
    "list3 = list(data[\"Confirmed\"])\n",
    "list4 = list(data[\"Recovered\"])\n",
    "list5 = list(data[\"Deaths\"])"
   ]
  },
  {
   "cell_type": "code",
   "execution_count": 80,
   "metadata": {},
   "outputs": [],
   "source": [
    "idx = pd.MultiIndex.from_arrays([\n",
    "    list1,\n",
    "    list2],\n",
    "    names=['Date', 'Country/Region']\n",
    ")"
   ]
  },
  {
   "cell_type": "code",
   "execution_count": 110,
   "metadata": {
    "scrolled": true
   },
   "outputs": [],
   "source": [
    "s = pd.Series(list3, name='Confirmed', index=idx)\n",
    "data_date_confirmed =list(s.sum(level=\"Date\"))\n",
    "data_country_confirmed = list(s.sum(level=\"Country/Region\"))"
   ]
  },
  {
   "cell_type": "code",
   "execution_count": 117,
   "metadata": {},
   "outputs": [
    {
     "data": {
      "text/plain": [
       "Date     Country/Region        \n",
       "1/22/20  Afghanistan                 0\n",
       "         Albania                     0\n",
       "         Algeria                     0\n",
       "         Andorra                     0\n",
       "         Angola                      0\n",
       "         Antigua and Barbuda         0\n",
       "         Argentina                   0\n",
       "         Armenia                     0\n",
       "         Australia                   0\n",
       "         Australia                   0\n",
       "         Australia                   0\n",
       "         Australia                   0\n",
       "         Australia                   0\n",
       "         Australia                   0\n",
       "         Australia                   0\n",
       "         Australia                   0\n",
       "         Austria                     0\n",
       "         Azerbaijan                  0\n",
       "         Bahamas                     0\n",
       "         Bahrain                     0\n",
       "         Bangladesh                  0\n",
       "         Barbados                    0\n",
       "         Belarus                     0\n",
       "         Belgium                     0\n",
       "         Benin                       0\n",
       "         Bhutan                      0\n",
       "         Bolivia                     0\n",
       "         Bosnia and Herzegovina      0\n",
       "         Brazil                      0\n",
       "         Brunei                      0\n",
       "                                  ... \n",
       "4/30/20  Mozambique                 76\n",
       "         Syria                      43\n",
       "         Timor-Leste                24\n",
       "         Belize                     18\n",
       "         Laos                       19\n",
       "         Libya                      61\n",
       "         West Bank and Gaza        344\n",
       "         Guinea-Bissau             205\n",
       "         Mali                      490\n",
       "         Saint Kitts and Nevis      15\n",
       "         Canada                      5\n",
       "         Canada                     11\n",
       "         Kosovo                    799\n",
       "         Burma                     151\n",
       "         United Kingdom              3\n",
       "         United Kingdom              6\n",
       "         United Kingdom             12\n",
       "         MS Zaandam                  9\n",
       "         Botswana                   23\n",
       "         Burundi                    11\n",
       "         Sierra Leone              124\n",
       "         Malawi                     37\n",
       "         United Kingdom             13\n",
       "         France                      1\n",
       "         South Sudan                35\n",
       "         Western Sahara              6\n",
       "         Sao Tome and Principe      14\n",
       "         Yemen                       6\n",
       "         Comoros                     1\n",
       "         Tajikistan                 15\n",
       "Name: Confirmed, Length: 26400, dtype: int64"
      ]
     },
     "execution_count": 117,
     "metadata": {},
     "output_type": "execute_result"
    }
   ],
   "source": [
    "s"
   ]
  },
  {
   "cell_type": "code",
   "execution_count": 111,
   "metadata": {},
   "outputs": [],
   "source": [
    "l= pd.Series(list4, name='Deaths', index=idx)\n",
    "data_date_deaths =list(l.sum(level=\"Date\"))\n",
    "data_country_deaths = list(l.sum(level=\"Country/Region\"))"
   ]
  },
  {
   "cell_type": "code",
   "execution_count": 116,
   "metadata": {},
   "outputs": [
    {
     "data": {
      "text/plain": [
       "100"
      ]
     },
     "execution_count": 116,
     "metadata": {},
     "output_type": "execute_result"
    }
   ],
   "source": [
    "len(data_date_deaths)"
   ]
  },
  {
   "cell_type": "code",
   "execution_count": 112,
   "metadata": {},
   "outputs": [],
   "source": [
    "k= pd.Series(list5, name='Recovered', index=idx)\n",
    "data_date_recovered =list( k.sum(level=\"Date\"))\n",
    "data_country_recovered = list(k.sum(level=\"Country/Region\"))"
   ]
  },
  {
   "cell_type": "code",
   "execution_count": 113,
   "metadata": {},
   "outputs": [],
   "source": [
    "date = data[\"Date\"].unique()\n",
    "data_date = pd.DataFrame(list(zip(date,data_date_confirmed,data_date_deaths,data_date_recovered)),columns=[\"Date\",\"Confirmed\",\"Recovered\",\"Deaths\"])"
   ]
  },
  {
   "cell_type": "code",
   "execution_count": 114,
   "metadata": {},
   "outputs": [],
   "source": [
    "country= data[\"Country/Region\"].unique()\n",
    "data_country = pd.DataFrame(list(zip(country,data_country_confirmed,data_country_deaths,data_country_recovered)),columns=[\"Country\",\"Confirmed\",\"Recovered\",\"Deaths\"])"
   ]
  },
  {
   "cell_type": "code",
   "execution_count": null,
   "metadata": {},
   "outputs": [],
   "source": []
  }
 ],
 "metadata": {
  "kernelspec": {
   "display_name": "Python 3",
   "language": "python",
   "name": "python3"
  },
  "language_info": {
   "codemirror_mode": {
    "name": "ipython",
    "version": 3
   },
   "file_extension": ".py",
   "mimetype": "text/x-python",
   "name": "python",
   "nbconvert_exporter": "python",
   "pygments_lexer": "ipython3",
   "version": "3.7.3"
  }
 },
 "nbformat": 4,
 "nbformat_minor": 2
}
